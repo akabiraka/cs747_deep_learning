{
 "cells": [
  {
   "cell_type": "code",
   "execution_count": 1,
   "metadata": {},
   "outputs": [],
   "source": [
    "import random\n",
    "import numpy as np\n",
    "from data_process import get_CIFAR10_data\n",
    "import math\n",
    "from scipy.spatial import distance\n",
    "from models import KNN, Perceptron, SVM, Softmax\n",
    "from kaggle_submission import output_submission_csv\n",
    "%matplotlib inline"
   ]
  },
  {
   "cell_type": "markdown",
   "metadata": {},
   "source": [
    "# Loading CIFAR-10"
   ]
  },
  {
   "cell_type": "markdown",
   "metadata": {},
   "source": [
    "In the following cells we determine the number of images for each split and load the images."
   ]
  },
  {
   "cell_type": "code",
   "execution_count": 2,
   "metadata": {},
   "outputs": [],
   "source": [
    "# You can change these numbers for experimentation\n",
    "# For submission we will use the default values \n",
    "TRAIN_IMAGES = 49000\n",
    "VAL_IMAGES = 1000\n",
    "TEST_IMAGES = 5000"
   ]
  },
  {
   "cell_type": "code",
   "execution_count": 3,
   "metadata": {},
   "outputs": [],
   "source": [
    "data = get_CIFAR10_data(TRAIN_IMAGES, VAL_IMAGES, TEST_IMAGES)\n",
    "X_train, y_train = data['X_train'], data['y_train']\n",
    "X_val, y_val = data['X_val'], data['y_val']\n",
    "X_test, y_test = data['X_test'], data['y_test']"
   ]
  },
  {
   "cell_type": "markdown",
   "metadata": {},
   "source": [
    "Convert the sets of images from dimensions of **(N, 3, 32, 32) -> (N, 3072)** where N is the number of images so that each **3x32x32** image is represented by a single vector."
   ]
  },
  {
   "cell_type": "code",
   "execution_count": 4,
   "metadata": {},
   "outputs": [],
   "source": [
    "X_train = np.reshape(X_train, (X_train.shape[0], -1))\n",
    "X_val = np.reshape(X_val, (X_val.shape[0], -1))\n",
    "X_test = np.reshape(X_test, (X_test.shape[0], -1))"
   ]
  },
  {
   "cell_type": "markdown",
   "metadata": {},
   "source": [
    "### Get Accuracy"
   ]
  },
  {
   "cell_type": "markdown",
   "metadata": {},
   "source": [
    "This function computes how well your model performs using accuracy as a metric."
   ]
  },
  {
   "cell_type": "code",
   "execution_count": 5,
   "metadata": {},
   "outputs": [],
   "source": [
    "def get_acc(pred, y_test):\n",
    "    return np.sum(y_test==pred)/len(y_test)*100"
   ]
  },
  {
   "cell_type": "markdown",
   "metadata": {},
   "source": [
    "# K-Nearest Neighbors"
   ]
  },
  {
   "cell_type": "markdown",
   "metadata": {},
   "source": [
    "The kNN classifier consists of two stages:\n",
    "\n",
    "- During training, the classifier takes the training data and simply remembers it\n",
    "- During testing, kNN classifies every test image by comparing to all training images and selecting the class that is most common among the k most similar training examples\n",
    "\n",
    "In this exercise you will implement these steps using writing efficient, vectorized code. Your final implementation should not use for loops to loop over each of the test and train examples. Instead, you should calculate distances between vectorized forms of the datasets. You may refer to the `scipy.spatial.distance.cdist` function to do this efficiently.\n",
    "\n",
    "The following code :\n",
    "- Creates an instance of the KNN classifier class with k = 5\n",
    "- The train function of the KNN class is trained on the training data\n",
    "- We use the predict function for predicting testing data labels"
   ]
  },
  {
   "cell_type": "markdown",
   "metadata": {},
   "source": [
    "### Training KNN"
   ]
  },
  {
   "cell_type": "code",
   "execution_count": 13,
   "metadata": {},
   "outputs": [],
   "source": [
    "knn = KNN(5)\n",
    "knn.train(X_train, y_train)"
   ]
  },
  {
   "cell_type": "markdown",
   "metadata": {},
   "source": [
    "### Find best k on validation"
   ]
  },
  {
   "cell_type": "markdown",
   "metadata": {},
   "source": [
    "The value of k is an important hyperparameter for the KNN classifier. We will choose the best k by examining the performance of classifiers trained with different k values on the validation set.\n",
    "\n",
    "It's not necessary to try many different values of k for the purposes of this exercise. You may increase k by a magnitude of 2 each iteration up to around k=100 or something similar to get a sense of classifier performance for different k values.\n",
    "\n",
    "**Modify the code below to loop though different values of k, train a KNN classifier for each k, and output the validation accuracy for each of the classifiers. Be sure to note your best k below as well.**"
   ]
  },
  {
   "cell_type": "code",
   "execution_count": 14,
   "metadata": {},
   "outputs": [],
   "source": [
    "# TO DO : Experiment with different values of k\n",
    "# k = 5\n",
    "# knn = KNN(k)\n",
    "# knn.train(X_train, y_train)\n",
    "\n",
    "# pred_knn = knn.predict(X_val)\n",
    "# print('The validation accuracy is given by : %f' % (get_acc(pred_knn, y_val)))"
   ]
  },
  {
   "cell_type": "code",
   "execution_count": 15,
   "metadata": {},
   "outputs": [
    {
     "name": "stdout",
     "output_type": "stream",
     "text": [
      "The validation accuracy is given by : 40.100000 where k-value is : 5\n",
      "The validation accuracy is given by : 38.600000 where k-value is : 10\n",
      "The validation accuracy is given by : 40.400000 where k-value is : 15\n",
      "The validation accuracy is given by : 42.200000 where k-value is : 20\n",
      "The validation accuracy is given by : 42.400000 where k-value is : 25\n",
      "The validation accuracy is given by : 42.300000 where k-value is : 30\n",
      "The validation accuracy is given by : 42.100000 where k-value is : 35\n",
      "The validation accuracy is given by : 41.500000 where k-value is : 40\n",
      "The validation accuracy is given by : 40.300000 where k-value is : 45\n",
      "The validation accuracy is given by : 39.800000 where k-value is : 50\n",
      "The validation accuracy is given by : 40.100000 where k-value is : 55\n",
      "The validation accuracy is given by : 40.200000 where k-value is : 60\n",
      "The validation accuracy is given by : 40.100000 where k-value is : 65\n",
      "The validation accuracy is given by : 39.600000 where k-value is : 70\n",
      "The validation accuracy is given by : 40.100000 where k-value is : 75\n",
      "The validation accuracy is given by : 40.300000 where k-value is : 80\n",
      "The validation accuracy is given by : 39.900000 where k-value is : 85\n",
      "The validation accuracy is given by : 39.600000 where k-value is : 90\n",
      "The validation accuracy is given by : 38.200000 where k-value is : 95\n",
      "Best accuracy: 42.400000, best k-value: 25\n"
     ]
    }
   ],
   "source": [
    "# TO DO : Experiment with different values of k\n",
    "k = 5\n",
    "best_acc = -12345\n",
    "best_k = k\n",
    "\n",
    "for i in range(1, 20):\n",
    "    k = i*5\n",
    "    knn = KNN(k)\n",
    "    knn.train(X_train, y_train)\n",
    "    pred_knn = knn.predict(X_val)\n",
    "    acc = get_acc(pred_knn, y_val)\n",
    "    if acc>best_acc:\n",
    "        best_acc = acc\n",
    "        best_k = k\n",
    "    print('The validation accuracy is given by : %f where k-value is : %d' % (acc, k))\n",
    "\n",
    "print('Best accuracy: %f, best k-value: %d' % (best_acc, best_k))"
   ]
  },
  {
   "cell_type": "markdown",
   "metadata": {},
   "source": [
    "### Testing KNN"
   ]
  },
  {
   "cell_type": "markdown",
   "metadata": {},
   "source": [
    "Finally, once you have found the best k according to your experiments on the validation set, retrain a classifier with the best k and test your classifier on the test set."
   ]
  },
  {
   "cell_type": "code",
   "execution_count": 16,
   "metadata": {},
   "outputs": [],
   "source": [
    "# best_k = 25\n",
    "knn = KNN(best_k)\n",
    "knn.train(X_train, y_train)"
   ]
  },
  {
   "cell_type": "code",
   "execution_count": 17,
   "metadata": {},
   "outputs": [
    {
     "name": "stdout",
     "output_type": "stream",
     "text": [
      "The testing accuracy is given by : 43.160000\n"
     ]
    }
   ],
   "source": [
    "pred_knn = knn.predict(X_test)\n",
    "print('The testing accuracy is given by : %f' % (get_acc(pred_knn, y_test)))"
   ]
  },
  {
   "cell_type": "markdown",
   "metadata": {},
   "source": [
    "### KNN Kaggle Submission\n",
    "\n",
    "Once you are satisfied with your solution and test accuracy output a file to submit your test set predictions to the Kaggle for Assignment 1 KNN. Use the following code to do so:"
   ]
  },
  {
   "cell_type": "code",
   "execution_count": 18,
   "metadata": {},
   "outputs": [],
   "source": [
    "output_submission_csv('knn_submission_43.1.csv', knn.predict(X_test))"
   ]
  },
  {
   "cell_type": "markdown",
   "metadata": {},
   "source": [
    "# Perceptron"
   ]
  },
  {
   "cell_type": "markdown",
   "metadata": {},
   "source": [
    "Perceptron has 2 hyperparameters that you can experiment with:\n",
    "- **Learning rate** - controls how much we change the current weights of the classifier during each update. We set it at a default value of 0.5, but you should experiment with different values. We recommend changing the learning rate by factors of 10 and observing how the performance of the classifier changes. You should also try adding a **decay** which slowly reduces the learning rate over each epoch.\n",
    "- **Number of Epochs** - An epoch is a complete iterative pass over all of the data in the dataset. During an epoch we predict a label using the classifier and then update the weights of the classifier according the perceptron update rule for each sample in the training set. You should try different values for the number of training epochs and report your results."
   ]
  },
  {
   "cell_type": "markdown",
   "metadata": {},
   "source": [
    "You will implement the Perceptron classifier in the **models/Perceptron.py**\n",
    "\n",
    "The following code: \n",
    "- Creates an instance of the Perceptron classifier class \n",
    "- The train function of the Perceptron class is trained on the training data\n",
    "- We use the predict function to find the training accuracy as well as the testing accuracy\n"
   ]
  },
  {
   "cell_type": "markdown",
   "metadata": {},
   "source": [
    "### Train Perceptron"
   ]
  },
  {
   "cell_type": "code",
   "execution_count": 6,
   "metadata": {},
   "outputs": [
    {
     "name": "stdout",
     "output_type": "stream",
     "text": [
      "(49000, 3072)\n",
      "(49000,)\n",
      "epoch: 0 , error: 43661  alpha:  3.0\n",
      "epoch: 1 , error: 44518  alpha:  3.0\n",
      "epoch: 2 , error: 42559  alpha:  3.0\n",
      "epoch: 3 , error: 44042  alpha:  3.0\n",
      "epoch: 4 , error: 40896  alpha:  1.5\n",
      "epoch: 5 , error: 40739  alpha:  1.5\n",
      "epoch: 6 , error: 41725  alpha:  1.5\n",
      "epoch: 7 , error: 40178  alpha:  1.5\n",
      "epoch: 8 , error: 43506  alpha:  1.5\n",
      "epoch: 9 , error: 40602  alpha:  0.75\n",
      "epoch: 10 , error: 37310  alpha:  0.75\n",
      "epoch: 11 , error: 43438  alpha:  0.75\n",
      "epoch: 12 , error: 39755  alpha:  0.75\n",
      "epoch: 13 , error: 43451  alpha:  0.75\n",
      "epoch: 14 , error: 40305  alpha:  0.375\n",
      "epoch: 15 , error: 35127  alpha:  0.375\n",
      "epoch: 16 , error: 42884  alpha:  0.375\n",
      "epoch: 17 , error: 38162  alpha:  0.375\n",
      "epoch: 18 , error: 41209  alpha:  0.375\n",
      "epoch: 19 , error: 39799  alpha:  0.1875\n",
      "epoch: 20 , error: 36862  alpha:  0.1875\n",
      "epoch: 21 , error: 40332  alpha:  0.1875\n",
      "epoch: 22 , error: 37843  alpha:  0.1875\n",
      "epoch: 23 , error: 39085  alpha:  0.1875\n",
      "epoch: 24 , error: 38552  alpha:  0.09375\n",
      "epoch: 25 , error: 34736  alpha:  0.09375\n",
      "epoch: 26 , error: 38591  alpha:  0.09375\n",
      "epoch: 27 , error: 36209  alpha:  0.09375\n",
      "epoch: 28 , error: 38050  alpha:  0.09375\n",
      "epoch: 29 , error: 36937  alpha:  0.046875\n",
      "epoch: 30 , error: 32905  alpha:  0.046875\n",
      "epoch: 31 , error: 36448  alpha:  0.046875\n",
      "epoch: 32 , error: 34002  alpha:  0.046875\n",
      "epoch: 33 , error: 36288  alpha:  0.046875\n",
      "epoch: 34 , error: 34347  alpha:  0.0234375\n",
      "epoch: 35 , error: 33036  alpha:  0.0234375\n",
      "epoch: 36 , error: 34274  alpha:  0.0234375\n",
      "epoch: 37 , error: 33484  alpha:  0.0234375\n",
      "epoch: 38 , error: 34425  alpha:  0.0234375\n",
      "epoch: 39 , error: 33837  alpha:  0.01171875\n",
      "epoch: 40 , error: 33804  alpha:  0.01171875\n",
      "epoch: 41 , error: 33911  alpha:  0.01171875\n",
      "epoch: 42 , error: 33960  alpha:  0.01171875\n",
      "epoch: 43 , error: 34004  alpha:  0.01171875\n",
      "epoch: 44 , error: 34031  alpha:  0.005859375\n",
      "epoch: 45 , error: 34057  alpha:  0.005859375\n",
      "epoch: 46 , error: 34068  alpha:  0.005859375\n",
      "epoch: 47 , error: 34087  alpha:  0.005859375\n",
      "epoch: 48 , error: 34091  alpha:  0.005859375\n",
      "epoch: 49 , error: 34108  alpha:  0.0029296875\n"
     ]
    },
    {
     "data": {
      "image/png": "[encoded data removed]",
      "text/plain": [
       "<Figure size 720x720 with 1 Axes>"
      ]
     },
     "metadata": {
      "needs_background": "light"
     },
     "output_type": "display_data"
    }
   ],
   "source": [
    "percept_ = Perceptron()\n",
    "percept_.train(X_train, y_train)"
   ]
  },
  {
   "cell_type": "code",
   "execution_count": 10,
   "metadata": {},
   "outputs": [
    {
     "name": "stdout",
     "output_type": "stream",
     "text": [
      "The training accuracy is given by : 30.379592\n"
     ]
    }
   ],
   "source": [
    "pred_percept = percept_.predict(X_train)\n",
    "print('The training accuracy is given by : %f' % (get_acc(pred_percept, y_train)))"
   ]
  },
  {
   "cell_type": "markdown",
   "metadata": {},
   "source": [
    "### Validation"
   ]
  },
  {
   "cell_type": "code",
   "execution_count": 11,
   "metadata": {},
   "outputs": [
    {
     "name": "stdout",
     "output_type": "stream",
     "text": [
      "The validation accuracy is given by : 29.800000\n"
     ]
    }
   ],
   "source": [
    "pred_percept = percept_.predict(X_val)\n",
    "print('The validation accuracy is given by : %f' % (get_acc(pred_percept, y_val)))"
   ]
  },
  {
   "cell_type": "markdown",
   "metadata": {},
   "source": [
    "### Test Perceptron"
   ]
  },
  {
   "cell_type": "code",
   "execution_count": 12,
   "metadata": {},
   "outputs": [
    {
     "name": "stdout",
     "output_type": "stream",
     "text": [
      "The testing accuracy is given by : 28.940000\n"
     ]
    }
   ],
   "source": [
    "pred_percept = percept_.predict(X_test)\n",
    "print('The testing accuracy is given by : %f' % (get_acc(pred_percept, y_test)))"
   ]
  },
  {
   "cell_type": "markdown",
   "metadata": {},
   "source": [
    "### Perceptron Kaggle Submission\n",
    "\n",
    "Once you are satisfied with your solution and test accuracy output a file to submit your test set predictions to the Kaggle for Assignment 1 Perceptron. Use the following code to do so:"
   ]
  },
  {
   "cell_type": "code",
   "execution_count": 10,
   "metadata": {},
   "outputs": [],
   "source": [
    "output_submission_csv('perceptron_submission_29.9.csv', percept_.predict(X_test))"
   ]
  },
  {
   "cell_type": "markdown",
   "metadata": {},
   "source": [
    "# Support Vector Machines (with SGD)"
   ]
  },
  {
   "cell_type": "markdown",
   "metadata": {},
   "source": [
    "Next, you will implement a \"soft margin\" SVM. In this formulation you will maximize the margin between positive and negative training examples and penalize margin violations using a hinge loss.\n",
    "\n",
    "We will optimize the SVM loss using SGD. This means you must compute the loss function with respect to model weights. You will use this gradient to update the model weights.\n",
    "\n",
    "SVM optimized with SGD has 3 hyperparameters that you can experiment with :\n",
    "- **Learning rate** - similar to as defined above in Perceptron, this parameter scales by how much the weights are changed according to the calculated gradient update. \n",
    "- **Epochs** - similar to as defined above in Perceptron.\n",
    "- **Regularization constant** - Hyperparameter to determine the strength of regularization. In this case it is a coefficient on the term which maximizes the margin."
   ]
  },
  {
   "cell_type": "markdown",
   "metadata": {},
   "source": [
    "You will implement the SVM using SGD in the **models/SVM.py**\n",
    "\n",
    "The following code: \n",
    "- Creates an instance of the SVM classifier class \n",
    "- The train function of the SVM class is trained on the training data\n",
    "- We use the predict function to find the training accuracy as well as the testing accuracy"
   ]
  },
  {
   "cell_type": "markdown",
   "metadata": {},
   "source": [
    "### Train SVM"
   ]
  },
  {
   "cell_type": "code",
   "execution_count": 6,
   "metadata": {},
   "outputs": [
    {
     "name": "stdout",
     "output_type": "stream",
     "text": [
      "epoch: 0 , error: 45309  alpha:  0.1\n",
      "epoch: 1 , error: 38623  alpha:  0.0740818220681718\n",
      "epoch: 2 , error: 37439  alpha:  0.05488116360940264\n",
      "epoch: 3 , error: 35440  alpha:  0.04065696597405992\n",
      "epoch: 4 , error: 34683  alpha:  0.030119421191220214\n",
      "epoch: 5 , error: 34702  alpha:  0.022313016014842982\n",
      "epoch: 6 , error: 33945  alpha:  0.016529888822158657\n",
      "epoch: 7 , error: 33048  alpha:  0.012245642825298192\n",
      "epoch: 8 , error: 32789  alpha:  0.009071795328941252\n",
      "epoch: 9 , error: 32280  alpha:  0.006720551273974979\n",
      "epoch: 10 , error: 32339  alpha:  0.004978706836786395\n",
      "epoch: 11 , error: 32187  alpha:  0.0036883167401240017\n",
      "epoch: 12 , error: 32173  alpha:  0.002732372244729257\n",
      "epoch: 13 , error: 32172  alpha:  0.002024191144580439\n",
      "epoch: 14 , error: 32117  alpha:  0.0014995576820477704\n",
      "epoch: 15 , error: 32097  alpha:  0.0011108996538242307\n",
      "epoch: 16 , error: 32083  alpha:  0.0008229747049020031\n",
      "epoch: 17 , error: 32066  alpha:  0.0006096746565515638\n",
      "epoch: 18 , error: 32050  alpha:  0.00045165809426126705\n",
      "epoch: 19 , error: 32042  alpha:  0.0003345965457471272\n",
      "epoch: 20 , error: 32039  alpha:  0.00024787521766663585\n",
      "epoch: 21 , error: 32043  alpha:  0.00018363047770289073\n",
      "epoch: 22 , error: 32044  alpha:  0.0001360368037547894\n",
      "epoch: 23 , error: 32044  alpha:  0.00010077854290485114\n",
      "epoch: 24 , error: 32046  alpha:  7.465858083766799e-05\n",
      "epoch: 25 , error: 32045  alpha:  5.530843701478336e-05\n",
      "epoch: 26 , error: 32047  alpha:  4.097349789797868e-05\n",
      "epoch: 27 , error: 32047  alpha:  3.035391380788668e-05\n",
      "epoch: 28 , error: 32048  alpha:  2.248673241788482e-05\n",
      "epoch: 29 , error: 32048  alpha:  1.6658581098763355e-05\n"
     ]
    },
    {
     "data": {
      "image/png": "[encoded data removed]",
      "text/plain": [
       "<Figure size 720x720 with 1 Axes>"
      ]
     },
     "metadata": {
      "needs_background": "light"
     },
     "output_type": "display_data"
    }
   ],
   "source": [
    "svm = SVM()\n",
    "svm.train(X_train, y_train)"
   ]
  },
  {
   "cell_type": "code",
   "execution_count": 8,
   "metadata": {},
   "outputs": [
    {
     "name": "stdout",
     "output_type": "stream",
     "text": [
      "The training accuracy is given by : 34.595918\n"
     ]
    }
   ],
   "source": [
    "pred_svm = svm.predict(X_train)\n",
    "print('The training accuracy is given by : %f' % (get_acc(pred_svm, y_train)))"
   ]
  },
  {
   "cell_type": "markdown",
   "metadata": {},
   "source": [
    "### Validate SVM"
   ]
  },
  {
   "cell_type": "code",
   "execution_count": 9,
   "metadata": {},
   "outputs": [
    {
     "name": "stdout",
     "output_type": "stream",
     "text": [
      "The validation accuracy is given by : 34.400000\n"
     ]
    }
   ],
   "source": [
    "pred_svm = svm.predict(X_val)\n",
    "print('The validation accuracy is given by : %f' % (get_acc(pred_svm, y_val)))"
   ]
  },
  {
   "cell_type": "markdown",
   "metadata": {},
   "source": [
    "### Test SVM"
   ]
  },
  {
   "cell_type": "code",
   "execution_count": 10,
   "metadata": {},
   "outputs": [
    {
     "name": "stdout",
     "output_type": "stream",
     "text": [
      "The testing accuracy is given by : 35.080000\n"
     ]
    }
   ],
   "source": [
    "pred_svm = svm.predict(X_test)\n",
    "print('The testing accuracy is given by : %f' % (get_acc(pred_svm, y_test)))"
   ]
  },
  {
   "cell_type": "markdown",
   "metadata": {},
   "source": [
    "### SVM Kaggle Submission\n",
    "\n",
    "Once you are satisfied with your solution and test accuracy output a file to submit your test set predictions to the Kaggle for Assignment 1 SVM. Use the following code to do so:"
   ]
  },
  {
   "cell_type": "code",
   "execution_count": 15,
   "metadata": {},
   "outputs": [],
   "source": [
    "output_submission_csv('svm_submission_35.08.csv', svm.predict(X_test))"
   ]
  },
  {
   "cell_type": "markdown",
   "metadata": {},
   "source": [
    "# Softmax Classifier (with SGD)"
   ]
  },
  {
   "cell_type": "markdown",
   "metadata": {
    "collapsed": true
   },
   "source": [
    "Next, you will train a Softmax classifier. This classifier consists of a linear function of the input data followed by a softmax function which outputs a vector of dimension C (number of classes) for each data point. Each entry of the softmax output vector corresponds to a confidence in one of the C classes, and like a probability distribution, the entries of the output vector sum to 1. We use a cross-entropy loss on this sotmax output to train the model. \n",
    "\n",
    "Check the following link as an additional resource on softmax classification: http://cs231n.github.io/linear-classify/#softmax\n",
    "\n",
    "Once again we will train the classifier with SGD. This means you need to compute the gradients of the softmax cross-entropy loss function according to the weights and update the weights using this gradient. Check the following link to help with implementing the gradient updates: https://deepnotes.io/softmax-crossentropy"
   ]
  },
  {
   "cell_type": "markdown",
   "metadata": {},
   "source": [
    "The softmax classifier has 3 hyperparameters that you can experiment with :\n",
    "- **Learning rate** - As above, this controls how much the model weights are updated with respect to their gradient.\n",
    "- **Number of Epochs** - As described for perceptron.\n",
    "- **Regularization constant** - Hyperparameter to determine the strength of regularization. In this case, we minimize the L2 norm of the model weights as regularization, so the regularization constant is a coefficient on the L2 norm in the combined cross-entropy and regularization objective."
   ]
  },
  {
   "cell_type": "markdown",
   "metadata": {},
   "source": [
    "You will implement a softmax classifier using SGD in the **models/Softmax.py**\n",
    "\n",
    "The following code: \n",
    "- Creates an instance of the Softmax classifier class \n",
    "- The train function of the Softmax class is trained on the training data\n",
    "- We use the predict function to find the training accuracy as well as the testing accuracy"
   ]
  },
  {
   "cell_type": "markdown",
   "metadata": {},
   "source": [
    "### Train Softmax"
   ]
  },
  {
   "cell_type": "code",
   "execution_count": 7,
   "metadata": {},
   "outputs": [
    {
     "name": "stdout",
     "output_type": "stream",
     "text": [
      "epoch: 0 , error: 43111  alpha:  0.1\n",
      "epoch: 1 , error: 42063  alpha:  0.0740818220681718\n",
      "epoch: 2 , error: 37947  alpha:  0.05488116360940264\n",
      "epoch: 3 , error: 37473  alpha:  0.04065696597405992\n",
      "epoch: 4 , error: 37380  alpha:  0.030119421191220214\n",
      "epoch: 5 , error: 36631  alpha:  0.022313016014842982\n",
      "epoch: 6 , error: 36563  alpha:  0.016529888822158657\n",
      "epoch: 7 , error: 33816  alpha:  0.012245642825298192\n",
      "epoch: 8 , error: 34286  alpha:  0.009071795328941252\n",
      "epoch: 9 , error: 33124  alpha:  0.006720551273974979\n",
      "epoch: 10 , error: 33145  alpha:  0.004978706836786395\n",
      "epoch: 11 , error: 32539  alpha:  0.0036883167401240017\n",
      "epoch: 12 , error: 32570  alpha:  0.002732372244729257\n",
      "epoch: 13 , error: 32548  alpha:  0.002024191144580439\n",
      "epoch: 14 , error: 32609  alpha:  0.0014995576820477704\n",
      "epoch: 15 , error: 32619  alpha:  0.0011108996538242307\n",
      "epoch: 16 , error: 32623  alpha:  0.0008229747049020031\n",
      "epoch: 17 , error: 32625  alpha:  0.0006096746565515638\n",
      "epoch: 18 , error: 32632  alpha:  0.00045165809426126705\n",
      "epoch: 19 , error: 32630  alpha:  0.0003345965457471272\n",
      "epoch: 20 , error: 32629  alpha:  0.00024787521766663585\n",
      "epoch: 21 , error: 32630  alpha:  0.00018363047770289073\n",
      "epoch: 22 , error: 32630  alpha:  0.0001360368037547894\n",
      "epoch: 23 , error: 32630  alpha:  0.00010077854290485114\n",
      "epoch: 24 , error: 32622  alpha:  7.465858083766799e-05\n",
      "epoch: 25 , error: 32623  alpha:  5.530843701478336e-05\n",
      "epoch: 26 , error: 32626  alpha:  4.097349789797868e-05\n",
      "epoch: 27 , error: 32626  alpha:  3.035391380788668e-05\n",
      "epoch: 28 , error: 32625  alpha:  2.248673241788482e-05\n",
      "epoch: 29 , error: 32622  alpha:  1.6658581098763355e-05\n",
      "epoch: 30 , error: 32622  alpha:  1.2340980408667957e-05\n",
      "epoch: 31 , error: 32622  alpha:  9.142423147817343e-06\n",
      "epoch: 32 , error: 32621  alpha:  6.77287364908539e-06\n",
      "epoch: 33 , error: 32621  alpha:  5.017468205617529e-06\n",
      "epoch: 34 , error: 32620  alpha:  3.7170318684126737e-06\n",
      "epoch: 35 , error: 32620  alpha:  2.753644934974716e-06\n",
      "epoch: 36 , error: 32620  alpha:  2.039950341117196e-06\n",
      "epoch: 37 , error: 32620  alpha:  1.5112323819855034e-06\n",
      "epoch: 38 , error: 32620  alpha:  1.119548484259094e-06\n",
      "epoch: 39 , error: 32620  alpha:  8.293819160757371e-07\n"
     ]
    },
    {
     "data": {
      "image/png": "[encoded data removed]",
      "text/plain": [
       "<Figure size 720x720 with 1 Axes>"
      ]
     },
     "metadata": {
      "needs_background": "light"
     },
     "output_type": "display_data"
    }
   ],
   "source": [
    "softmax = Softmax()\n",
    "softmax.train(X_train, y_train)"
   ]
  },
  {
   "cell_type": "code",
   "execution_count": 11,
   "metadata": {},
   "outputs": [
    {
     "name": "stdout",
     "output_type": "stream",
     "text": [
      "The training accuracy is given by : 33.428571\n"
     ]
    }
   ],
   "source": [
    "pred_softmax = softmax.predict(X_train)\n",
    "print('The training accuracy is given by : %f' % (get_acc(pred_softmax, y_train)))"
   ]
  },
  {
   "cell_type": "markdown",
   "metadata": {},
   "source": [
    "### Validate Softmax"
   ]
  },
  {
   "cell_type": "code",
   "execution_count": 12,
   "metadata": {},
   "outputs": [
    {
     "name": "stdout",
     "output_type": "stream",
     "text": [
      "The validation accuracy is given by : 33.800000\n"
     ]
    }
   ],
   "source": [
    "pred_softmax = softmax.predict(X_val)\n",
    "print('The validation accuracy is given by : %f' % (get_acc(pred_softmax, y_val)))"
   ]
  },
  {
   "cell_type": "markdown",
   "metadata": {},
   "source": [
    "### Testing Softmax"
   ]
  },
  {
   "cell_type": "code",
   "execution_count": 13,
   "metadata": {},
   "outputs": [
    {
     "name": "stdout",
     "output_type": "stream",
     "text": [
      "The testing accuracy is given by : 33.720000\n"
     ]
    }
   ],
   "source": [
    "pred_softmax = softmax.predict(X_test)\n",
    "print('The testing accuracy is given by : %f' % (get_acc(pred_softmax, y_test)))"
   ]
  },
  {
   "cell_type": "markdown",
   "metadata": {},
   "source": [
    "### Softmax Kaggle Submission\n",
    "\n",
    "Once you are satisfied with your solution and test accuracy output a file to submit your test set predictions to the Kaggle for Assignment 1 Softmax. Use the following code to do so:"
   ]
  },
  {
   "cell_type": "code",
   "execution_count": 14,
   "metadata": {},
   "outputs": [],
   "source": [
    "output_submission_csv('softmax_submission_33.7.csv', softmax.predict(X_test))"
   ]
  },
  {
   "cell_type": "code",
   "execution_count": null,
   "metadata": {},
   "outputs": [],
   "source": []
  }
 ],
 "metadata": {
  "kernelspec": {
   "display_name": "Python 3",
   "language": "python",
   "name": "python3"
  },
  "language_info": {
   "codemirror_mode": {
    "name": "ipython",
    "version": 3
   },
   "file_extension": ".py",
   "mimetype": "text/x-python",
   "name": "python",
   "nbconvert_exporter": "python",
   "pygments_lexer": "ipython3",
   "version": "3.6.9"
  }
 },
 "nbformat": 4,
 "nbformat_minor": 1
}
